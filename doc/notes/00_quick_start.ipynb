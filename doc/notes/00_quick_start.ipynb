{
 "cells": [
  {
   "cell_type": "markdown",
   "metadata": {
    "collapsed": true,
    "pycharm": {
     "name": "#%% md\n"
    }
   },
   "source": [
    "### Quick Start\n",
    "\n",
    "1. Import modules. You can import any module described in FullSpec.\n",
    "   For a quick start, we only have to import ChartAnalyzer, Text, Animation and StoryBoard"
   ]
  },
  {
   "cell_type": "code",
   "execution_count": 1,
   "outputs": [],
   "source": [
    "import os\n",
    "from configs.config import example_dir\n",
    "\n",
    "from util.chart.analyzer import ChartAnalyzer\n",
    "from util.storyboard.Text import *\n",
    "from util.storyboard.base import *\n",
    "from util.storyboard.Storyboard import StoryBoard"
   ],
   "metadata": {
    "collapsed": false,
    "pycharm": {
     "name": "#%%\n"
    }
   }
  },
  {
   "cell_type": "markdown",
   "source": [
    "2. Load a chart to the analyzer. Feel free to add your own chart.\n",
    "   Chart analyzer is a helpful tool to get important information, e.g. absolute time.\n",
    "   Here we generate the absolute time of all notes (counting from 0) and store them to list \"t\""
   ],
   "metadata": {
    "collapsed": false,
    "pycharm": {
     "name": "#%% md\n"
    }
   }
  },
  {
   "cell_type": "code",
   "execution_count": 2,
   "outputs": [
    {
     "data": {
      "text/plain": "0.6822439999999972"
     },
     "execution_count": 2,
     "metadata": {},
     "output_type": "execute_result"
    }
   ],
   "source": [
    "analyzer = ChartAnalyzer(os.path.join(example_dir, \"nhelv.json\"))\n",
    "t = analyzer.get_note_times()\n",
    "t[0]"
   ],
   "metadata": {
    "collapsed": false,
    "pycharm": {
     "name": "#%%\n"
    }
   }
  },
  {
   "cell_type": "markdown",
   "source": [
    "3. Create a Storyboard object \"my_storyboard\" and a Text object \"nhelv\""
   ],
   "metadata": {
    "collapsed": false,
    "pycharm": {
     "name": "#%% md\n"
    }
   }
  },
  {
   "cell_type": "code",
   "execution_count": 3,
   "outputs": [],
   "source": [
    "my_storyboard = StoryBoard()\n",
    "my_text = Text(r\"NHELV\")"
   ],
   "metadata": {
    "collapsed": false,
    "pycharm": {
     "name": "#%%\n"
    }
   }
  },
  {
   "cell_type": "markdown",
   "source": [
    "4. We use hatch() to initialize some properties our text.\n",
    "   Here we set color to white, opacity to 0, ...\n",
    "   We launch the hatch action when the 19th note starts."
   ],
   "metadata": {
    "collapsed": false,
    "pycharm": {
     "name": "#%% md\n"
    }
   }
  },
  {
   "cell_type": "code",
   "execution_count": 4,
   "outputs": [],
   "source": [
    "init = {\n",
    "        \"color\": \"#FFF\",\n",
    "        \"opacity\": 0,\n",
    "        \"rot_z\": 0,\n",
    "        \"scale\": 1,\n",
    "        \"pivot_x\": 0.5,\n",
    "        \"pivot_y\": 0.5\n",
    "}\n",
    "my_text = my_text.hatch(at=t[19], init=init)"
   ],
   "metadata": {
    "collapsed": false,
    "pycharm": {
     "name": "#%%\n"
    }
   }
  },
  {
   "cell_type": "markdown",
   "source": [
    "5. After hatching, we append a morph action followed by a rotation, a morph, and a mutation to the object.\n",
    "   The first morph action starts at the 20th note, it changes the opacity from 0 to 1  in 4 seconds.\n",
    "   The rotation action starts at the 22nd note, it rotates the text along z-axis for 90 degrees in 10 seconds.\n",
    "   The second morph action starts at the 46th note, it scales the text to 1.5x the original size in 5 seconds.\n",
    "   The mutate action starts at the 39th note, it scales the text to 3x the original size in a sudden then scales back."
   ],
   "metadata": {
    "collapsed": false,
    "pycharm": {
     "name": "#%% md\n"
    }
   }
  },
  {
   "cell_type": "code",
   "execution_count": 5,
   "outputs": [],
   "source": [
    "my_text = my_text.morph(at=t[19], to_morph={\"opacity\": 1}, duration=4)\\\n",
    "        .rotate(at=t[21], axis=\"z\", degree=90, duration=11)\\\n",
    "        .scale(at=t[46], axis=\"xy\", value=1.5, duration=5, pivot=1)\\\n",
    "        .mutate(at=t[39], to_mutate={\"scale\": 3}, animation=Animation())"
   ],
   "metadata": {
    "collapsed": false,
    "pycharm": {
     "name": "#%%\n"
    }
   }
  },
  {
   "cell_type": "markdown",
   "source": [
    "6. When everything is done with our elegant text, we add it to our storyboard."
   ],
   "metadata": {
    "collapsed": false,
    "pycharm": {
     "name": "#%% md\n"
    }
   }
  },
  {
   "cell_type": "code",
   "execution_count": 6,
   "outputs": [],
   "source": [
    "my_storyboard.add(my_text)"
   ],
   "metadata": {
    "collapsed": false,
    "pycharm": {
     "name": "#%%\n"
    }
   }
  },
  {
   "cell_type": "markdown",
   "source": [
    "7. Finally, parse the storyboard to JSON!"
   ],
   "metadata": {
    "collapsed": false,
    "pycharm": {
     "name": "#%% md\n"
    }
   }
  },
  {
   "cell_type": "code",
   "execution_count": 7,
   "outputs": [
    {
     "data": {
      "text/plain": "'{\"texts\": [{\"text\": \"NHELV\", \"id\": \"text_2606594355008\", \"states\": [{\"time\": 9.551415999999989, \"color\": \"#FFF\", \"easing\": \"linear\"}]}, {\"target_id\": \"text_2606594355008\", \"states\": [{\"time\": 9.551415999999989, \"opacity\": 1, \"easing\": \"linear\"}]}, {\"target_id\": \"text_2606594355008\", \"states\": [{\"time\": 9.551415999999989, \"rot_z\": 0, \"easing\": \"linear\"}, {\"time\": 12.280392000000006, \"rot_z\": 0, \"easing\": \"linear\"}, {\"time\": 23.280392000000006, \"rot_z\": 90, \"easing\": \"linear\"}]}, {\"target_id\": \"text_2606594355008\", \"states\": [{\"time\": 9.551415999999989, \"scale\": 1, \"easing\": \"linear\"}, {\"time\": 22.286637333333317, \"scale\": 1, \"easing\": \"linear\"}, {\"time\": 27.286637333333317, \"scale\": 1.5, \"easing\": \"linear\"}, {\"time\": 19.39395399999999, \"scale\": 1.5, \"easing\": \"linear\"}, {\"time\": 19.44395399999999, \"scale\": 3, \"easing\": \"linear\"}, {\"time\": 19.44395399999999, \"scale\": 3, \"easing\": \"linear\"}, {\"time\": 19.49395399999999, \"scale\": 1, \"easing\": \"linear\"}]}, {\"target_id\": \"text_2606594355008\", \"states\": [{\"time\": 9.551415999999989, \"pivot_x\": 0.5, \"easing\": \"linear\"}, {\"time\": 22.286637333333317, \"pivot_x\": 0.5, \"easing\": \"linear\"}, {\"time\": 27.286637333333317, \"pivot_x\": 1, \"easing\": \"linear\"}]}, {\"target_id\": \"text_2606594355008\", \"states\": [{\"time\": 9.551415999999989, \"pivot_y\": 0.5, \"easing\": \"linear\"}, {\"time\": 22.286637333333317, \"pivot_y\": 0.5, \"easing\": \"linear\"}, {\"time\": 27.286637333333317, \"pivot_y\": 1, \"easing\": \"linear\"}]}, {\"target_id\": \"text_2606594355008\", \"states\": [{\"time\": 9.551415999999989, \"x\": 0, \"easing\": \"linear\"}]}, {\"target_id\": \"text_2606594355008\", \"states\": [{\"time\": 9.551415999999989, \"y\": 0, \"easing\": \"linear\"}]}]}'"
     },
     "execution_count": 7,
     "metadata": {},
     "output_type": "execute_result"
    }
   ],
   "source": [
    "my_storyboard.parse()"
   ],
   "metadata": {
    "collapsed": false,
    "pycharm": {
     "name": "#%%\n"
    }
   }
  }
 ],
 "metadata": {
  "kernelspec": {
   "display_name": "Python 3",
   "language": "python",
   "name": "python3"
  },
  "language_info": {
   "codemirror_mode": {
    "name": "ipython",
    "version": 2
   },
   "file_extension": ".py",
   "mimetype": "text/x-python",
   "name": "python",
   "nbconvert_exporter": "python",
   "pygments_lexer": "ipython2",
   "version": "2.7.6"
  }
 },
 "nbformat": 4,
 "nbformat_minor": 0
}